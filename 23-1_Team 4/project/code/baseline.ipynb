{
  "nbformat": 4,
  "nbformat_minor": 0,
  "metadata": {
    "colab": {
      "provenance": [],
      "collapsed_sections": [
        "61dEUiAaW2Tb",
        "XAjRCr08cGg8",
        "5wzqzQM_Ic0X",
        "k7vj8lkUckk3",
        "iYXOQcwTcJfD",
        "YCK0mixldpzd",
        "IMJSSIUVI2A1",
        "c_1LI8jabFWF",
        "uB52u6Dkv2tW",
        "wCDIVp2gaLfe",
        "91bVYbUZf_SR"
      ]
    },
    "kernelspec": {
      "name": "python3",
      "display_name": "Python 3"
    },
    "language_info": {
      "name": "python"
    }
  },
  "cells": [
    {
      "cell_type": "markdown",
      "source": [
        "# 데이터 전처리"
      ],
      "metadata": {
        "id": "61dEUiAaW2Tb"
      }
    },
    {
      "cell_type": "markdown",
      "source": [
        "## import\n",
        "> pandas, numpy, matplotlib\n",
        "\n",
        "> get df"
      ],
      "metadata": {
        "id": "XAjRCr08cGg8"
      }
    },
    {
      "cell_type": "code",
      "source": [
        "# pandas, numpy, matplotlib\n",
        "import pandas as pd\n",
        "import numpy as np\n",
        "import matplotlib.pyplot as plt"
      ],
      "metadata": {
        "id": "NuMYhpgPW5y8"
      },
      "execution_count": null,
      "outputs": []
    },
    {
      "cell_type": "code",
      "execution_count": null,
      "metadata": {
        "id": "NcT1K-TAWUXw"
      },
      "outputs": [],
      "source": [
        "# get df\n",
        "dir = \"/content/drive/MyDrive/DAT/data/diabetes_prediction_dataset.csv\"\n",
        "df = pd.read_csv(dir)"
      ]
    },
    {
      "cell_type": "markdown",
      "source": [
        "## 01. 데이터 수정\n",
        "> 결측치 처리\n",
        "\n",
        "> 중복된 행 제거\n",
        "\n",
        "> 나이 변수 형변환\n",
        "* float -> int"
      ],
      "metadata": {
        "id": "5wzqzQM_Ic0X"
      }
    },
    {
      "cell_type": "code",
      "source": [
        "# 결측치 처리\n",
        "df.isnull().sum()"
      ],
      "metadata": {
        "colab": {
          "base_uri": "https://localhost:8080/"
        },
        "id": "Vic6LD4NcceH",
        "outputId": "4b8294bb-28d1-4ba5-86d0-edc7a7974301"
      },
      "execution_count": null,
      "outputs": [
        {
          "output_type": "execute_result",
          "data": {
            "text/plain": [
              "gender                 0\n",
              "age                    0\n",
              "hypertension           0\n",
              "heart_disease          0\n",
              "smoking_history        0\n",
              "bmi                    0\n",
              "HbA1c_level            0\n",
              "blood_glucose_level    0\n",
              "diabetes               0\n",
              "dtype: int64"
            ]
          },
          "metadata": {},
          "execution_count": 237
        }
      ]
    },
    {
      "cell_type": "code",
      "source": [
        "# 중복된 행 제거\n",
        "df.duplicated().sum()\n",
        "df.shape"
      ],
      "metadata": {
        "colab": {
          "base_uri": "https://localhost:8080/"
        },
        "id": "O3jjiIBLdSZK",
        "outputId": "f12c5dee-23a0-4972-c696-2a43f65f0af3"
      },
      "execution_count": null,
      "outputs": [
        {
          "output_type": "execute_result",
          "data": {
            "text/plain": [
              "(100000, 9)"
            ]
          },
          "metadata": {},
          "execution_count": 238
        }
      ]
    },
    {
      "cell_type": "code",
      "source": [
        "# 나이 변수 형변환\n",
        "df['age'] = df['age'].astype(int)"
      ],
      "metadata": {
        "id": "XzzqyjB_dS6C"
      },
      "execution_count": null,
      "outputs": []
    },
    {
      "cell_type": "markdown",
      "source": [
        "## gender\n",
        "> ~Others~\n",
        "\n",
        "> dummy"
      ],
      "metadata": {
        "id": "k7vj8lkUckk3"
      }
    },
    {
      "cell_type": "code",
      "source": [
        "# remove Others\n",
        "df = df[df['gender'] != 'Other']"
      ],
      "metadata": {
        "id": "RJZwx7ovcsL2"
      },
      "execution_count": null,
      "outputs": []
    },
    {
      "cell_type": "code",
      "source": [
        "# dummy\n",
        "gender_dummies = pd.get_dummies(df['gender'])\n",
        "df = pd.concat([df, gender_dummies], axis = 1)\n",
        "df=df.drop(['gender'],axis = 1)"
      ],
      "metadata": {
        "id": "Ga-vB44tc9hu"
      },
      "execution_count": null,
      "outputs": []
    },
    {
      "cell_type": "markdown",
      "source": [
        "## smoking_history\n",
        "> smoking_history 열 전체 제거"
      ],
      "metadata": {
        "id": "iYXOQcwTcJfD"
      }
    },
    {
      "cell_type": "code",
      "source": [
        "# smoking_history 열 전체 제거\n",
        "df.drop([\"smoking_history\"], axis = 1, inplace = True)"
      ],
      "metadata": {
        "id": "cGo0lFWoZX8L"
      },
      "execution_count": null,
      "outputs": []
    },
    {
      "cell_type": "markdown",
      "source": [
        "## diabetes\n",
        "> 맨 오른쪽 열으로 이동"
      ],
      "metadata": {
        "id": "YCK0mixldpzd"
      }
    },
    {
      "cell_type": "code",
      "source": [
        "# 맨 오른쪽 열으로 이동\n",
        "cols = df.columns.tolist()\n",
        "cols.remove('diabetes')\n",
        "df = df[cols+['diabetes']]"
      ],
      "metadata": {
        "id": "fVxPmrvpdwwe"
      },
      "execution_count": null,
      "outputs": []
    },
    {
      "cell_type": "markdown",
      "source": [
        "## train/test split\n",
        "> set X, y\n",
        "\n",
        "> train_test_split"
      ],
      "metadata": {
        "id": "IMJSSIUVI2A1"
      }
    },
    {
      "cell_type": "code",
      "source": [
        "# set X, y\n",
        "X = df.iloc[:,:-1]\n",
        "y = df.iloc[:,-1]"
      ],
      "metadata": {
        "id": "j8W4Qp7Tdx0W"
      },
      "execution_count": null,
      "outputs": []
    },
    {
      "cell_type": "code",
      "source": [
        "# train_test_split\n",
        "from sklearn.model_selection import train_test_split\n",
        "X_train, X_test, y_train, y_test = train_test_split(X, y, test_size = 0.2, random_state = 0)"
      ],
      "metadata": {
        "id": "cJ-FIpn_aLBz"
      },
      "execution_count": null,
      "outputs": []
    },
    {
      "cell_type": "markdown",
      "source": [
        "# Undersampling / Oversampling | w/ logistic"
      ],
      "metadata": {
        "id": "c_1LI8jabFWF"
      }
    },
    {
      "cell_type": "markdown",
      "source": [
        "## import\n",
        "> recall_score, LogisticRegression"
      ],
      "metadata": {
        "id": "uB52u6Dkv2tW"
      }
    },
    {
      "cell_type": "code",
      "source": [
        "from sklearn.metrics import recall_score\n",
        "from sklearn.linear_model import LogisticRegression"
      ],
      "metadata": {
        "id": "i5MjY1zHv2PN"
      },
      "execution_count": null,
      "outputs": []
    },
    {
      "cell_type": "markdown",
      "source": [
        "## Undersampling\n",
        "> Undersampling\n",
        "\n",
        "> Logistic Regression"
      ],
      "metadata": {
        "id": "wCDIVp2gaLfe"
      }
    },
    {
      "cell_type": "code",
      "source": [
        "# Undersampling\n",
        "from imblearn.under_sampling import RandomUnderSampler\n",
        "\n",
        "max_dia = df[df['diabetes'] == 1]\n",
        "min_dia = df[df['diabetes'] == 0]\n",
        "undersample = RandomUnderSampler(random_state = 42)\n",
        "X_train_under, y_train_under = undersample.fit_resample(X_train, y_train)\n",
        "y_train_under.value_counts()"
      ],
      "metadata": {
        "colab": {
          "base_uri": "https://localhost:8080/"
        },
        "id": "Y9dWrLCGfX9n",
        "outputId": "a4a8fab9-310f-4fc7-962e-49ece4adc68a"
      },
      "execution_count": null,
      "outputs": [
        {
          "output_type": "execute_result",
          "data": {
            "text/plain": [
              "0    6792\n",
              "1    6792\n",
              "Name: diabetes, dtype: int64"
            ]
          },
          "metadata": {},
          "execution_count": 247
        }
      ]
    },
    {
      "cell_type": "code",
      "source": [
        "# Logistic Regression\n",
        "from sklearn.linear_model import LogisticRegression\n",
        "\n",
        "lr = LogisticRegression()\n",
        "lr.fit(X_train_under, y_train_under)\n",
        "lr.fit(X_train_under, y_train_under)\n",
        "\n",
        "y_train_pred = lr.predict(X_train_under)\n",
        "y_test_pred = lr.predict(X_test)\n",
        "\n",
        "# recall score\n",
        "print(\"recall_train:\", recall_score(y_train_under, y_train_pred))\n",
        "print(\"recall_test: \", recall_score(y_test, y_test_pred))\n",
        "\n",
        "# accuracy score\n",
        "print(\"train:\", lr.score(X_train_under, y_train_under))\n",
        "print(\"test: \", lr.score(X_test, y_test))"
      ],
      "metadata": {
        "colab": {
          "base_uri": "https://localhost:8080/"
        },
        "id": "Dpoxb2swlSzs",
        "outputId": "9ab46c42-4eaa-4bca-b47b-73b543ff8848"
      },
      "execution_count": null,
      "outputs": [
        {
          "output_type": "stream",
          "name": "stdout",
          "text": [
            "recall_train: 0.8805948174322733\n",
            "recall_test:  0.8940281030444965\n",
            "train: 0.8861896348645465\n",
            "test:  0.8839825973896085\n"
          ]
        },
        {
          "output_type": "stream",
          "name": "stderr",
          "text": [
            "/usr/local/lib/python3.10/dist-packages/sklearn/linear_model/_logistic.py:458: ConvergenceWarning: lbfgs failed to converge (status=1):\n",
            "STOP: TOTAL NO. of ITERATIONS REACHED LIMIT.\n",
            "\n",
            "Increase the number of iterations (max_iter) or scale the data as shown in:\n",
            "    https://scikit-learn.org/stable/modules/preprocessing.html\n",
            "Please also refer to the documentation for alternative solver options:\n",
            "    https://scikit-learn.org/stable/modules/linear_model.html#logistic-regression\n",
            "  n_iter_i = _check_optimize_result(\n",
            "/usr/local/lib/python3.10/dist-packages/sklearn/linear_model/_logistic.py:458: ConvergenceWarning: lbfgs failed to converge (status=1):\n",
            "STOP: TOTAL NO. of ITERATIONS REACHED LIMIT.\n",
            "\n",
            "Increase the number of iterations (max_iter) or scale the data as shown in:\n",
            "    https://scikit-learn.org/stable/modules/preprocessing.html\n",
            "Please also refer to the documentation for alternative solver options:\n",
            "    https://scikit-learn.org/stable/modules/linear_model.html#logistic-regression\n",
            "  n_iter_i = _check_optimize_result(\n"
          ]
        }
      ]
    },
    {
      "cell_type": "markdown",
      "source": [
        "## Oversampling\n",
        "> SMOTE\n",
        "\n",
        "> Logistic Regression"
      ],
      "metadata": {
        "id": "91bVYbUZf_SR"
      }
    },
    {
      "cell_type": "code",
      "source": [
        "# SMOTE\n",
        "from imblearn.over_sampling import SMOTE\n",
        "\n",
        "smote = SMOTE(random_state = 42)\n",
        "X_train_over, y_train_over = smote.fit_resample(X_train,y_train)\n",
        "y_train_over.value_counts()"
      ],
      "metadata": {
        "colab": {
          "base_uri": "https://localhost:8080/"
        },
        "id": "eG7Kffs3gIe1",
        "outputId": "61026b53-898e-433e-e038-4abb43583389"
      },
      "execution_count": null,
      "outputs": [
        {
          "output_type": "execute_result",
          "data": {
            "text/plain": [
              "0    73193\n",
              "1    73193\n",
              "Name: diabetes, dtype: int64"
            ]
          },
          "metadata": {},
          "execution_count": 232
        }
      ]
    },
    {
      "cell_type": "code",
      "source": [
        "# Logistic Regression\n",
        "from sklearn.linear_model import LogisticRegression\n",
        "\n",
        "lr = LogisticRegression()\n",
        "lr.fit(X_train_over, y_train_over)\n",
        "lr.fit(X_train_over, y_train_over)\n",
        "\n",
        "y_train_pred = lr.predict(X_train_over)\n",
        "y_test_pred = lr.predict(X_test)\n",
        "\n",
        "# recall score\n",
        "print(\"recall_train:\", recall_score(y_train_over, y_train_pred))\n",
        "print(\"recall_test: \", recall_score(y_test, y_test_pred))\n",
        "\n",
        "# accuracy score\n",
        "print(\"train:\", lr.score(X_train_over, y_train_over))\n",
        "print(\"test: \", lr.score(X_test, y_test))"
      ],
      "metadata": {
        "colab": {
          "base_uri": "https://localhost:8080/"
        },
        "id": "98VGpGNgikjX",
        "outputId": "9748cd7a-6fd5-45dc-e5f9-7c0c7d3e5a0c"
      },
      "execution_count": null,
      "outputs": [
        {
          "output_type": "stream",
          "name": "stderr",
          "text": [
            "/usr/local/lib/python3.10/dist-packages/sklearn/linear_model/_logistic.py:458: ConvergenceWarning: lbfgs failed to converge (status=1):\n",
            "STOP: TOTAL NO. of ITERATIONS REACHED LIMIT.\n",
            "\n",
            "Increase the number of iterations (max_iter) or scale the data as shown in:\n",
            "    https://scikit-learn.org/stable/modules/preprocessing.html\n",
            "Please also refer to the documentation for alternative solver options:\n",
            "    https://scikit-learn.org/stable/modules/linear_model.html#logistic-regression\n",
            "  n_iter_i = _check_optimize_result(\n"
          ]
        },
        {
          "output_type": "stream",
          "name": "stdout",
          "text": [
            "recall_train: 0.8945664202860929\n",
            "recall_test:  0.8436768149882904\n",
            "train: 0.9024291940486112\n",
            "test:  0.9040356053408011\n"
          ]
        },
        {
          "output_type": "stream",
          "name": "stderr",
          "text": [
            "/usr/local/lib/python3.10/dist-packages/sklearn/linear_model/_logistic.py:458: ConvergenceWarning: lbfgs failed to converge (status=1):\n",
            "STOP: TOTAL NO. of ITERATIONS REACHED LIMIT.\n",
            "\n",
            "Increase the number of iterations (max_iter) or scale the data as shown in:\n",
            "    https://scikit-learn.org/stable/modules/preprocessing.html\n",
            "Please also refer to the documentation for alternative solver options:\n",
            "    https://scikit-learn.org/stable/modules/linear_model.html#logistic-regression\n",
            "  n_iter_i = _check_optimize_result(\n"
          ]
        }
      ]
    }
  ]
}