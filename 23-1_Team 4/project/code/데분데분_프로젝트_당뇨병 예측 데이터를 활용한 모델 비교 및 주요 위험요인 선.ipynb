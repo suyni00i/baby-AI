{
  "nbformat": 4,
  "nbformat_minor": 0,
  "metadata": {
    "colab": {
      "provenance": []
    },
    "kernelspec": {
      "name": "python3",
      "display_name": "Python 3"
    },
    "language_info": {
      "name": "python"
    }
  },
  "cells": [
    {
      "cell_type": "markdown",
      "source": [
        "당뇨병 예측 데이터를 활용한 모델 비교 및 주요 위험요인 선별"
      ],
      "metadata": {
        "id": "tTdW-VVue4LW"
      }
    },
    {
      "cell_type": "markdown",
      "source": [
        "# 데이터 전처리"
      ],
      "metadata": {
        "id": "61dEUiAaW2Tb"
      }
    },
    {
      "cell_type": "markdown",
      "source": [
        "## import\n",
        "> pandas, numpy, matplotlib\n",
        "\n",
        "> get df"
      ],
      "metadata": {
        "id": "XAjRCr08cGg8"
      }
    },
    {
      "cell_type": "code",
      "source": [
        "# pandas, numpy, matplotlib\n",
        "import pandas as pd\n",
        "import numpy as np\n",
        "import matplotlib.pyplot as plt"
      ],
      "metadata": {
        "id": "NuMYhpgPW5y8"
      },
      "execution_count": 82,
      "outputs": []
    },
    {
      "cell_type": "code",
      "execution_count": 83,
      "metadata": {
        "id": "NcT1K-TAWUXw"
      },
      "outputs": [],
      "source": [
        "# get df\n",
        "df = pd.read_csv(\"/content/drive/MyDrive/데분데분/diabetes_prediction_dataset.csv\")"
      ]
    },
    {
      "cell_type": "markdown",
      "source": [
        "## 01. 데이터 수정\n",
        "> 결측치 처리\n",
        "\n",
        "> 중복된 행 제거\n",
        "\n",
        "> 나이 변수 형변환\n",
        "* float -> int"
      ],
      "metadata": {
        "id": "5wzqzQM_Ic0X"
      }
    },
    {
      "cell_type": "code",
      "source": [
        "# 결측치 처리\n",
        "df.isnull().sum()"
      ],
      "metadata": {
        "id": "Vic6LD4NcceH",
        "colab": {
          "base_uri": "https://localhost:8080/"
        },
        "outputId": "18e8043b-eb32-4c27-dc83-252571ece123"
      },
      "execution_count": 84,
      "outputs": [
        {
          "output_type": "execute_result",
          "data": {
            "text/plain": [
              "gender                 0\n",
              "age                    0\n",
              "hypertension           0\n",
              "heart_disease          0\n",
              "smoking_history        0\n",
              "bmi                    0\n",
              "HbA1c_level            0\n",
              "blood_glucose_level    0\n",
              "diabetes               0\n",
              "dtype: int64"
            ]
          },
          "metadata": {},
          "execution_count": 84
        }
      ]
    },
    {
      "cell_type": "code",
      "source": [
        "# 중복된 행 제거\n",
        "df.duplicated().sum()\n",
        "df.shape"
      ],
      "metadata": {
        "id": "O3jjiIBLdSZK",
        "colab": {
          "base_uri": "https://localhost:8080/"
        },
        "outputId": "5addd549-3a48-4b4d-89d4-21969c847567"
      },
      "execution_count": 85,
      "outputs": [
        {
          "output_type": "execute_result",
          "data": {
            "text/plain": [
              "(100000, 9)"
            ]
          },
          "metadata": {},
          "execution_count": 85
        }
      ]
    },
    {
      "cell_type": "code",
      "source": [
        "# 나이 변수 형변환\n",
        "df['age'] = df['age'].astype(int)"
      ],
      "metadata": {
        "id": "XzzqyjB_dS6C"
      },
      "execution_count": 86,
      "outputs": []
    },
    {
      "cell_type": "markdown",
      "source": [
        "## gender\n",
        "> ~Others~\n",
        "\n",
        "> dummy"
      ],
      "metadata": {
        "id": "k7vj8lkUckk3"
      }
    },
    {
      "cell_type": "code",
      "source": [
        "# remove Others\n",
        "df = df[df['gender'] != 'Other']"
      ],
      "metadata": {
        "id": "RJZwx7ovcsL2"
      },
      "execution_count": 87,
      "outputs": []
    },
    {
      "cell_type": "code",
      "source": [
        "# dummy\n",
        "gender_dummies = pd.get_dummies(df['gender'])\n",
        "df = pd.concat([df, gender_dummies], axis = 1)\n",
        "df=df.drop(['gender'],axis = 1)"
      ],
      "metadata": {
        "id": "Ga-vB44tc9hu"
      },
      "execution_count": 88,
      "outputs": []
    },
    {
      "cell_type": "markdown",
      "source": [
        "## smoking_history\n",
        "> smoking_history 열 전체 제거"
      ],
      "metadata": {
        "id": "iYXOQcwTcJfD"
      }
    },
    {
      "cell_type": "code",
      "source": [
        "# smoking_history 열 전체 제거\n",
        "df.drop([\"smoking_history\"], axis = 1, inplace = True)"
      ],
      "metadata": {
        "id": "cGo0lFWoZX8L"
      },
      "execution_count": 89,
      "outputs": []
    },
    {
      "cell_type": "markdown",
      "source": [
        "## diabetes\n",
        "> 맨 오른쪽 열으로 이동"
      ],
      "metadata": {
        "id": "YCK0mixldpzd"
      }
    },
    {
      "cell_type": "code",
      "source": [
        "# 맨 오른쪽 열으로 이동\n",
        "cols = df.columns.tolist()\n",
        "cols.remove('diabetes')\n",
        "df = df[cols+['diabetes']]"
      ],
      "metadata": {
        "id": "fVxPmrvpdwwe"
      },
      "execution_count": 90,
      "outputs": []
    },
    {
      "cell_type": "markdown",
      "source": [
        "## train/test split\n",
        "> set X, y\n",
        "\n",
        "> train_test_split"
      ],
      "metadata": {
        "id": "IMJSSIUVI2A1"
      }
    },
    {
      "cell_type": "code",
      "source": [
        "# set X, y\n",
        "X = df.iloc[:,:-1]\n",
        "y = df.iloc[:,-1]"
      ],
      "metadata": {
        "id": "j8W4Qp7Tdx0W"
      },
      "execution_count": 91,
      "outputs": []
    },
    {
      "cell_type": "code",
      "source": [
        "# train_test_split\n",
        "from sklearn.model_selection import train_test_split\n",
        "X_train, X_test, y_train, y_test = train_test_split(X, y, test_size = 0.2, random_state = 0)"
      ],
      "metadata": {
        "id": "cJ-FIpn_aLBz"
      },
      "execution_count": 92,
      "outputs": []
    },
    {
      "cell_type": "markdown",
      "source": [
        "# Undersampling / Oversampling | w/ logistic"
      ],
      "metadata": {
        "id": "c_1LI8jabFWF"
      }
    },
    {
      "cell_type": "markdown",
      "source": [
        "## import\n",
        "> recall_score, LogisticRegression"
      ],
      "metadata": {
        "id": "uB52u6Dkv2tW"
      }
    },
    {
      "cell_type": "code",
      "source": [
        "from sklearn.metrics import recall_score\n",
        "from sklearn.linear_model import LogisticRegression"
      ],
      "metadata": {
        "id": "i5MjY1zHv2PN"
      },
      "execution_count": 93,
      "outputs": []
    },
    {
      "cell_type": "code",
      "source": [
        "from sklearn.preprocessing import StandardScaler\n",
        "\n",
        "scaler = StandardScaler()\n",
        "scaler.fit(X)\n",
        "X = scaler.transform(X)"
      ],
      "metadata": {
        "id": "LDk-T5Rm0MY6"
      },
      "execution_count": 94,
      "outputs": []
    },
    {
      "cell_type": "markdown",
      "source": [
        "## Undersampling\n",
        "> Undersampling\n",
        "\n",
        "> Logistic Regression"
      ],
      "metadata": {
        "id": "wCDIVp2gaLfe"
      }
    },
    {
      "cell_type": "code",
      "source": [
        "# Undersampling\n",
        "from imblearn.under_sampling import RandomUnderSampler\n",
        "\n",
        "max_dia = df[df['diabetes'] == 1]\n",
        "min_dia = df[df['diabetes'] == 0]\n",
        "undersample = RandomUnderSampler(random_state = 42)\n",
        "X_train_under, y_train_under = undersample.fit_resample(X_train, y_train)\n",
        "y_train_under.value_counts()"
      ],
      "metadata": {
        "colab": {
          "base_uri": "https://localhost:8080/"
        },
        "id": "Y9dWrLCGfX9n",
        "outputId": "a2dbf71a-460c-4142-8ac8-d211501b3e5a"
      },
      "execution_count": 95,
      "outputs": [
        {
          "output_type": "execute_result",
          "data": {
            "text/plain": [
              "0    6792\n",
              "1    6792\n",
              "Name: diabetes, dtype: int64"
            ]
          },
          "metadata": {},
          "execution_count": 95
        }
      ]
    },
    {
      "cell_type": "code",
      "source": [
        "# Logistic Regression\n",
        "from sklearn.linear_model import LogisticRegression\n",
        "\n",
        "lr = LogisticRegression()\n",
        "lr.fit(X_train_under,y_train_under)\n",
        "'''\n",
        "lasso_lr = LogisticRegression(penalty='l2')\n",
        "lasso_lr.fit(X_train_under, y_train_under)\n",
        "score = lasso_lr.score(X_train_under, y_train_under)\n",
        "print(score)\n",
        "릿지라쏘 규제\n",
        "'''"
      ],
      "metadata": {
        "id": "Dpoxb2swlSzs",
        "colab": {
          "base_uri": "https://localhost:8080/",
          "height": 198
        },
        "outputId": "fcfaaf14-a055-43d6-a8c9-b7cff3f99de6"
      },
      "execution_count": 96,
      "outputs": [
        {
          "output_type": "stream",
          "name": "stderr",
          "text": [
            "/usr/local/lib/python3.10/dist-packages/sklearn/linear_model/_logistic.py:458: ConvergenceWarning: lbfgs failed to converge (status=1):\n",
            "STOP: TOTAL NO. of ITERATIONS REACHED LIMIT.\n",
            "\n",
            "Increase the number of iterations (max_iter) or scale the data as shown in:\n",
            "    https://scikit-learn.org/stable/modules/preprocessing.html\n",
            "Please also refer to the documentation for alternative solver options:\n",
            "    https://scikit-learn.org/stable/modules/linear_model.html#logistic-regression\n",
            "  n_iter_i = _check_optimize_result(\n"
          ]
        },
        {
          "output_type": "execute_result",
          "data": {
            "text/plain": [
              "\"\\nlasso_lr = LogisticRegression(penalty='l2')\\nlasso_lr.fit(X_train_under, y_train_under)\\nscore = lasso_lr.score(X_train_under, y_train_under)\\nprint(score)\\n릿지라쏘 규제\\n\""
            ],
            "application/vnd.google.colaboratory.intrinsic+json": {
              "type": "string"
            }
          },
          "metadata": {},
          "execution_count": 96
        }
      ]
    },
    {
      "cell_type": "code",
      "source": [
        "from google.colab import drive\n",
        "drive.mount('/content/drive')"
      ],
      "metadata": {
        "colab": {
          "base_uri": "https://localhost:8080/"
        },
        "id": "kkBgme59mAb1",
        "outputId": "754a3fc4-b9ef-4182-f560-472eadb9e15c"
      },
      "execution_count": 97,
      "outputs": [
        {
          "output_type": "stream",
          "name": "stdout",
          "text": [
            "Drive already mounted at /content/drive; to attempt to forcibly remount, call drive.mount(\"/content/drive\", force_remount=True).\n"
          ]
        }
      ]
    },
    {
      "cell_type": "code",
      "source": [
        "from sklearn.metrics import roc_auc_score\n",
        "prediction_train = lr.predict(X_train_under)\n",
        "prediction_test = lr.predict(X_test)\n",
        "print('roc auc value train : {}'.format(roc_auc_score(y_train_under,prediction_train)))\n",
        "print('roc auc value test: {}'.format(roc_auc_score(y_test,prediction_test)))"
      ],
      "metadata": {
        "colab": {
          "base_uri": "https://localhost:8080/"
        },
        "id": "lWcoxJi7t0O7",
        "outputId": "fb0fb456-be73-4109-8e07-37397c449ef1"
      },
      "execution_count": 98,
      "outputs": [
        {
          "output_type": "stream",
          "name": "stdout",
          "text": [
            "roc auc value train : 0.8861896348645466\n",
            "roc auc value test: 0.8885362779971785\n"
          ]
        }
      ]
    },
    {
      "cell_type": "markdown",
      "source": [
        "랜덤 포레스트"
      ],
      "metadata": {
        "id": "tSa5p3IDZdTW"
      }
    },
    {
      "cell_type": "code",
      "source": [
        "from sklearn.ensemble import RandomForestClassifier\n",
        "from sklearn.metrics import accuracy_score"
      ],
      "metadata": {
        "id": "O_RCAYhhXz9k"
      },
      "execution_count": 99,
      "outputs": []
    },
    {
      "cell_type": "code",
      "source": [
        "# Undersampled X, y를 활용한 랜덤포레스트 구성\n",
        "from sklearn.ensemble import RandomForestClassifier\n",
        "\n",
        "rf_clf = RandomForestClassifier(random_state = 42, n_estimators = 200, max_depth = 11)\n",
        "rf_clf.fit(X_train_under, y_train_under)\n",
        "\n",
        "y_train_pred = rf_clf.predict(X_train_under)\n",
        "y_test_pred = rf_clf.predict(X_test)"
      ],
      "metadata": {
        "id": "lDszCEYvZ4PM"
      },
      "execution_count": 100,
      "outputs": []
    },
    {
      "cell_type": "code",
      "source": [
        "# Grid Search\n",
        "from sklearn.ensemble import RandomForestClassifier\n",
        "from sklearn.model_selection import GridSearchCV\n",
        "\n",
        "params = {'n_estimators' : [10,50,100,200,300,500],\n",
        "          'max_depth' : [4,5,6,7,8,9,10,11,12],\n",
        "            }\n",
        "\n",
        "# RandomForestClassifier 객체 생성 후 GridSearchCV 수행\n",
        "rf_clf_under = RandomForestClassifier(random_state = 0)            # n_jobs = -1\n",
        "grid_cv = GridSearchCV(rf_clf_under, param_grid = params, cv = 3)            # n_jobs = -1\n",
        "grid_cv.fit(X_train_under, y_train_under)\n",
        "\n",
        "print('언더모델 최적 하이퍼파라미터: ', grid_cv.best_params_)\n",
        "print('최고 예측 정확도: {:.4f}'.format(grid_cv.best_score_))"
      ],
      "metadata": {
        "colab": {
          "base_uri": "https://localhost:8080/"
        },
        "id": "UQVNBL84akhE",
        "outputId": "b7e3dcfd-0280-4df1-84c6-20906d1bea52"
      },
      "execution_count": 101,
      "outputs": [
        {
          "output_type": "stream",
          "name": "stdout",
          "text": [
            "언더모델 최적 하이퍼파라미터:  {'max_depth': 11, 'n_estimators': 200}\n",
            "최고 예측 정확도: 0.9101\n"
          ]
        }
      ]
    },
    {
      "cell_type": "code",
      "source": [
        "from sklearn.metrics import roc_auc_score\n",
        "# auc score\n",
        "print('roc_auc_score_train:', roc_auc_score(y_train_under, y_train_pred))\n",
        "print('roc_auc_score_test:', roc_auc_score(y_test, y_test_pred))"
      ],
      "metadata": {
        "colab": {
          "base_uri": "https://localhost:8080/"
        },
        "id": "Uz-lgXAQrR5S",
        "outputId": "71e32160-21b2-4afd-c345-51caadab19dd"
      },
      "execution_count": 102,
      "outputs": [
        {
          "output_type": "stream",
          "name": "stdout",
          "text": [
            "roc_auc_score_train: 0.9218934040047114\n",
            "roc_auc_score_test: 0.9092858154458158\n"
          ]
        }
      ]
    },
    {
      "cell_type": "markdown",
      "source": [
        "SVM"
      ],
      "metadata": {
        "id": "c_h4SMOWbKHp"
      }
    },
    {
      "cell_type": "code",
      "source": [
        "# SVM : 'linear(선형)'\n",
        "from sklearn.svm import SVC\n",
        "from sklearn.metrics import accuracy_score, recall_score, roc_auc_score\n",
        "\n",
        "svm = SVC(kernel = 'linear')\n",
        "svm.fit(X_train_under, y_train_under)\n",
        "\n",
        "y_train_pred = svm.predict(X_train_under)\n",
        "y_test_pred = svm.predict(X_test)\n",
        "\n",
        "# auc\n",
        "print('roc auc value train : {}'.format(roc_auc_score(y_train_under,y_train_pred)))\n",
        "print('roc auc value test: {}'.format(roc_auc_score(y_test,y_test_pred)))"
      ],
      "metadata": {
        "colab": {
          "base_uri": "https://localhost:8080/"
        },
        "id": "l_vkUwTxbMpX",
        "outputId": "9285e214-32d0-4f23-ded2-ce6c052ae4e7"
      },
      "execution_count": 103,
      "outputs": [
        {
          "output_type": "stream",
          "name": "stdout",
          "text": [
            "roc auc value train : 0.8869994110718492\n",
            "roc auc value test: 0.8889451280718897\n"
          ]
        }
      ]
    },
    {
      "cell_type": "code",
      "source": [
        "# SVM : 'poly(다중)'\n",
        "\n",
        "import numpy as np\n",
        "from sklearn.svm import SVC\n",
        "from sklearn.metrics import accuracy_score, recall_score, roc_auc_score\n",
        "\n",
        "svm = SVC(kernel = 'poly')\n",
        "svm.fit(X_train_under, y_train_under)\n",
        "\n",
        "y_train_pred = svm.predict(X_train_under)\n",
        "y_test_pred = svm.predict(X_test)\n",
        "\n",
        "# auc\n",
        "print('roc auc value train : {}'.format(roc_auc_score(y_train_under,y_train_pred)))\n",
        "print('roc auc value test: {}'.format(roc_auc_score(y_test,y_test_pred)))"
      ],
      "metadata": {
        "colab": {
          "base_uri": "https://localhost:8080/"
        },
        "id": "AWowknI_bQIz",
        "outputId": "bbe806fd-5b25-40dd-d4de-d4ec0d9c8143"
      },
      "execution_count": 104,
      "outputs": [
        {
          "output_type": "stream",
          "name": "stdout",
          "text": [
            "roc auc value train : 0.8593197879858656\n",
            "roc auc value test: 0.8711764362781637\n"
          ]
        }
      ]
    },
    {
      "cell_type": "code",
      "source": [
        "# SVM : 'rbf(가우시안)'\n",
        "from sklearn.svm import SVC\n",
        "from sklearn.metrics import accuracy_score, recall_score, roc_auc_score\n",
        "\n",
        "svm = SVC(kernel = 'rbf')\n",
        "svm.fit(X_train_under, y_train_under)\n",
        "\n",
        "y_train_pred = svm.predict(X_train_under)\n",
        "y_test_pred = svm.predict(X_test)\n",
        "\n",
        "# auc\n",
        "print('roc auc value train : {}'.format(roc_auc_score(y_train_under,y_train_pred)))\n",
        "print('roc auc value test: {}'.format(roc_auc_score(y_test,y_test_pred)))"
      ],
      "metadata": {
        "colab": {
          "base_uri": "https://localhost:8080/"
        },
        "id": "T7p6En2RcC7w",
        "outputId": "8179c937-fd30-4655-b49f-8d321d49f410"
      },
      "execution_count": 105,
      "outputs": [
        {
          "output_type": "stream",
          "name": "stdout",
          "text": [
            "roc auc value train : 0.8589517078916372\n",
            "roc auc value test: 0.864997218737463\n"
          ]
        }
      ]
    },
    {
      "cell_type": "markdown",
      "source": [
        "Feature Importance"
      ],
      "metadata": {
        "id": "GrAPUrrrezdr"
      }
    },
    {
      "cell_type": "code",
      "source": [
        "from sklearn.ensemble import RandomForestClassifier\n",
        "rf_clf = RandomForestClassifier()\n",
        "rf_clf.fit(X_train_under, y_train_under)"
      ],
      "metadata": {
        "colab": {
          "base_uri": "https://localhost:8080/",
          "height": 74
        },
        "id": "OTcALRlOqoMZ",
        "outputId": "f7dc0afa-4710-4122-d9c0-be4fda5000c5"
      },
      "execution_count": 106,
      "outputs": [
        {
          "output_type": "execute_result",
          "data": {
            "text/plain": [
              "RandomForestClassifier()"
            ],
            "text/html": [
              "<style>#sk-container-id-3 {color: black;background-color: white;}#sk-container-id-3 pre{padding: 0;}#sk-container-id-3 div.sk-toggleable {background-color: white;}#sk-container-id-3 label.sk-toggleable__label {cursor: pointer;display: block;width: 100%;margin-bottom: 0;padding: 0.3em;box-sizing: border-box;text-align: center;}#sk-container-id-3 label.sk-toggleable__label-arrow:before {content: \"▸\";float: left;margin-right: 0.25em;color: #696969;}#sk-container-id-3 label.sk-toggleable__label-arrow:hover:before {color: black;}#sk-container-id-3 div.sk-estimator:hover label.sk-toggleable__label-arrow:before {color: black;}#sk-container-id-3 div.sk-toggleable__content {max-height: 0;max-width: 0;overflow: hidden;text-align: left;background-color: #f0f8ff;}#sk-container-id-3 div.sk-toggleable__content pre {margin: 0.2em;color: black;border-radius: 0.25em;background-color: #f0f8ff;}#sk-container-id-3 input.sk-toggleable__control:checked~div.sk-toggleable__content {max-height: 200px;max-width: 100%;overflow: auto;}#sk-container-id-3 input.sk-toggleable__control:checked~label.sk-toggleable__label-arrow:before {content: \"▾\";}#sk-container-id-3 div.sk-estimator input.sk-toggleable__control:checked~label.sk-toggleable__label {background-color: #d4ebff;}#sk-container-id-3 div.sk-label input.sk-toggleable__control:checked~label.sk-toggleable__label {background-color: #d4ebff;}#sk-container-id-3 input.sk-hidden--visually {border: 0;clip: rect(1px 1px 1px 1px);clip: rect(1px, 1px, 1px, 1px);height: 1px;margin: -1px;overflow: hidden;padding: 0;position: absolute;width: 1px;}#sk-container-id-3 div.sk-estimator {font-family: monospace;background-color: #f0f8ff;border: 1px dotted black;border-radius: 0.25em;box-sizing: border-box;margin-bottom: 0.5em;}#sk-container-id-3 div.sk-estimator:hover {background-color: #d4ebff;}#sk-container-id-3 div.sk-parallel-item::after {content: \"\";width: 100%;border-bottom: 1px solid gray;flex-grow: 1;}#sk-container-id-3 div.sk-label:hover label.sk-toggleable__label {background-color: #d4ebff;}#sk-container-id-3 div.sk-serial::before {content: \"\";position: absolute;border-left: 1px solid gray;box-sizing: border-box;top: 0;bottom: 0;left: 50%;z-index: 0;}#sk-container-id-3 div.sk-serial {display: flex;flex-direction: column;align-items: center;background-color: white;padding-right: 0.2em;padding-left: 0.2em;position: relative;}#sk-container-id-3 div.sk-item {position: relative;z-index: 1;}#sk-container-id-3 div.sk-parallel {display: flex;align-items: stretch;justify-content: center;background-color: white;position: relative;}#sk-container-id-3 div.sk-item::before, #sk-container-id-3 div.sk-parallel-item::before {content: \"\";position: absolute;border-left: 1px solid gray;box-sizing: border-box;top: 0;bottom: 0;left: 50%;z-index: -1;}#sk-container-id-3 div.sk-parallel-item {display: flex;flex-direction: column;z-index: 1;position: relative;background-color: white;}#sk-container-id-3 div.sk-parallel-item:first-child::after {align-self: flex-end;width: 50%;}#sk-container-id-3 div.sk-parallel-item:last-child::after {align-self: flex-start;width: 50%;}#sk-container-id-3 div.sk-parallel-item:only-child::after {width: 0;}#sk-container-id-3 div.sk-dashed-wrapped {border: 1px dashed gray;margin: 0 0.4em 0.5em 0.4em;box-sizing: border-box;padding-bottom: 0.4em;background-color: white;}#sk-container-id-3 div.sk-label label {font-family: monospace;font-weight: bold;display: inline-block;line-height: 1.2em;}#sk-container-id-3 div.sk-label-container {text-align: center;}#sk-container-id-3 div.sk-container {/* jupyter's `normalize.less` sets `[hidden] { display: none; }` but bootstrap.min.css set `[hidden] { display: none !important; }` so we also need the `!important` here to be able to override the default hidden behavior on the sphinx rendered scikit-learn.org. See: https://github.com/scikit-learn/scikit-learn/issues/21755 */display: inline-block !important;position: relative;}#sk-container-id-3 div.sk-text-repr-fallback {display: none;}</style><div id=\"sk-container-id-3\" class=\"sk-top-container\"><div class=\"sk-text-repr-fallback\"><pre>RandomForestClassifier()</pre><b>In a Jupyter environment, please rerun this cell to show the HTML representation or trust the notebook. <br />On GitHub, the HTML representation is unable to render, please try loading this page with nbviewer.org.</b></div><div class=\"sk-container\" hidden><div class=\"sk-item\"><div class=\"sk-estimator sk-toggleable\"><input class=\"sk-toggleable__control sk-hidden--visually\" id=\"sk-estimator-id-3\" type=\"checkbox\" checked><label for=\"sk-estimator-id-3\" class=\"sk-toggleable__label sk-toggleable__label-arrow\">RandomForestClassifier</label><div class=\"sk-toggleable__content\"><pre>RandomForestClassifier()</pre></div></div></div></div></div>"
            ]
          },
          "metadata": {},
          "execution_count": 106
        }
      ]
    },
    {
      "cell_type": "code",
      "source": [
        "feature_importance_under = pd.DataFrame(rf_clf.feature_importances_.reshape((1, -1)), columns=X_train_under.columns, index=['feature_importance_under'])\n",
        "feature_importance_under"
      ],
      "metadata": {
        "colab": {
          "base_uri": "https://localhost:8080/",
          "height": 80
        },
        "id": "Q3bhIjl6qwAM",
        "outputId": "6269224e-6f1a-481c-d60f-730a03861aa7"
      },
      "execution_count": 107,
      "outputs": [
        {
          "output_type": "execute_result",
          "data": {
            "text/plain": [
              "                               age  hypertension  heart_disease       bmi  \\\n",
              "feature_importance_under  0.186551      0.027304       0.016298  0.142966   \n",
              "\n",
              "                          HbA1c_level  blood_glucose_level    Female      Male  \n",
              "feature_importance_under      0.33989             0.281759  0.002382  0.002851  "
            ],
            "text/html": [
              "\n",
              "  <div id=\"df-d025cd84-808f-4eac-99b7-01adf7605ca6\">\n",
              "    <div class=\"colab-df-container\">\n",
              "      <div>\n",
              "<style scoped>\n",
              "    .dataframe tbody tr th:only-of-type {\n",
              "        vertical-align: middle;\n",
              "    }\n",
              "\n",
              "    .dataframe tbody tr th {\n",
              "        vertical-align: top;\n",
              "    }\n",
              "\n",
              "    .dataframe thead th {\n",
              "        text-align: right;\n",
              "    }\n",
              "</style>\n",
              "<table border=\"1\" class=\"dataframe\">\n",
              "  <thead>\n",
              "    <tr style=\"text-align: right;\">\n",
              "      <th></th>\n",
              "      <th>age</th>\n",
              "      <th>hypertension</th>\n",
              "      <th>heart_disease</th>\n",
              "      <th>bmi</th>\n",
              "      <th>HbA1c_level</th>\n",
              "      <th>blood_glucose_level</th>\n",
              "      <th>Female</th>\n",
              "      <th>Male</th>\n",
              "    </tr>\n",
              "  </thead>\n",
              "  <tbody>\n",
              "    <tr>\n",
              "      <th>feature_importance_under</th>\n",
              "      <td>0.186551</td>\n",
              "      <td>0.027304</td>\n",
              "      <td>0.016298</td>\n",
              "      <td>0.142966</td>\n",
              "      <td>0.33989</td>\n",
              "      <td>0.281759</td>\n",
              "      <td>0.002382</td>\n",
              "      <td>0.002851</td>\n",
              "    </tr>\n",
              "  </tbody>\n",
              "</table>\n",
              "</div>\n",
              "      <button class=\"colab-df-convert\" onclick=\"convertToInteractive('df-d025cd84-808f-4eac-99b7-01adf7605ca6')\"\n",
              "              title=\"Convert this dataframe to an interactive table.\"\n",
              "              style=\"display:none;\">\n",
              "        \n",
              "  <svg xmlns=\"http://www.w3.org/2000/svg\" height=\"24px\"viewBox=\"0 0 24 24\"\n",
              "       width=\"24px\">\n",
              "    <path d=\"M0 0h24v24H0V0z\" fill=\"none\"/>\n",
              "    <path d=\"M18.56 5.44l.94 2.06.94-2.06 2.06-.94-2.06-.94-.94-2.06-.94 2.06-2.06.94zm-11 1L8.5 8.5l.94-2.06 2.06-.94-2.06-.94L8.5 2.5l-.94 2.06-2.06.94zm10 10l.94 2.06.94-2.06 2.06-.94-2.06-.94-.94-2.06-.94 2.06-2.06.94z\"/><path d=\"M17.41 7.96l-1.37-1.37c-.4-.4-.92-.59-1.43-.59-.52 0-1.04.2-1.43.59L10.3 9.45l-7.72 7.72c-.78.78-.78 2.05 0 2.83L4 21.41c.39.39.9.59 1.41.59.51 0 1.02-.2 1.41-.59l7.78-7.78 2.81-2.81c.8-.78.8-2.07 0-2.86zM5.41 20L4 18.59l7.72-7.72 1.47 1.35L5.41 20z\"/>\n",
              "  </svg>\n",
              "      </button>\n",
              "      \n",
              "  <style>\n",
              "    .colab-df-container {\n",
              "      display:flex;\n",
              "      flex-wrap:wrap;\n",
              "      gap: 12px;\n",
              "    }\n",
              "\n",
              "    .colab-df-convert {\n",
              "      background-color: #E8F0FE;\n",
              "      border: none;\n",
              "      border-radius: 50%;\n",
              "      cursor: pointer;\n",
              "      display: none;\n",
              "      fill: #1967D2;\n",
              "      height: 32px;\n",
              "      padding: 0 0 0 0;\n",
              "      width: 32px;\n",
              "    }\n",
              "\n",
              "    .colab-df-convert:hover {\n",
              "      background-color: #E2EBFA;\n",
              "      box-shadow: 0px 1px 2px rgba(60, 64, 67, 0.3), 0px 1px 3px 1px rgba(60, 64, 67, 0.15);\n",
              "      fill: #174EA6;\n",
              "    }\n",
              "\n",
              "    [theme=dark] .colab-df-convert {\n",
              "      background-color: #3B4455;\n",
              "      fill: #D2E3FC;\n",
              "    }\n",
              "\n",
              "    [theme=dark] .colab-df-convert:hover {\n",
              "      background-color: #434B5C;\n",
              "      box-shadow: 0px 1px 3px 1px rgba(0, 0, 0, 0.15);\n",
              "      filter: drop-shadow(0px 1px 2px rgba(0, 0, 0, 0.3));\n",
              "      fill: #FFFFFF;\n",
              "    }\n",
              "  </style>\n",
              "\n",
              "      <script>\n",
              "        const buttonEl =\n",
              "          document.querySelector('#df-d025cd84-808f-4eac-99b7-01adf7605ca6 button.colab-df-convert');\n",
              "        buttonEl.style.display =\n",
              "          google.colab.kernel.accessAllowed ? 'block' : 'none';\n",
              "\n",
              "        async function convertToInteractive(key) {\n",
              "          const element = document.querySelector('#df-d025cd84-808f-4eac-99b7-01adf7605ca6');\n",
              "          const dataTable =\n",
              "            await google.colab.kernel.invokeFunction('convertToInteractive',\n",
              "                                                     [key], {});\n",
              "          if (!dataTable) return;\n",
              "\n",
              "          const docLinkHtml = 'Like what you see? Visit the ' +\n",
              "            '<a target=\"_blank\" href=https://colab.research.google.com/notebooks/data_table.ipynb>data table notebook</a>'\n",
              "            + ' to learn more about interactive tables.';\n",
              "          element.innerHTML = '';\n",
              "          dataTable['output_type'] = 'display_data';\n",
              "          await google.colab.output.renderOutput(dataTable, element);\n",
              "          const docLink = document.createElement('div');\n",
              "          docLink.innerHTML = docLinkHtml;\n",
              "          element.appendChild(docLink);\n",
              "        }\n",
              "      </script>\n",
              "    </div>\n",
              "  </div>\n",
              "  "
            ]
          },
          "metadata": {},
          "execution_count": 107
        }
      ]
    },
    {
      "cell_type": "code",
      "source": [
        "import matplotlib.pyplot as plt\n",
        "import seaborn as sns\n",
        "%matplotlib inline\n",
        "\n",
        "ftr_importances_values = rf_clf.feature_importances_\n",
        "ftr_importances = pd.Series(ftr_importances_values, index = X_train_under.columns)\n",
        "ftr_top10 = ftr_importances.sort_values(ascending=False)[:10]\n",
        "\n",
        "plt.figure(figsize=(8,6))\n",
        "plt.title('Top 10 Feature Importances')\n",
        "sns.barplot(x=ftr_top10, y=ftr_top10.index)\n",
        "plt.show()"
      ],
      "metadata": {
        "colab": {
          "base_uri": "https://localhost:8080/",
          "height": 545
        },
        "id": "8l8LNOM3qqkg",
        "outputId": "3b0ad77c-14ce-4fee-c7a2-cc6a143f4f2a"
      },
      "execution_count": 108,
      "outputs": [
        {
          "output_type": "display_data",
          "data": {
            "text/plain": [
              "<Figure size 800x600 with 1 Axes>"
            ],
            "image/png": "[encoded data removed]"
          },
          "metadata": {}
        }
      ]
    }
  ]
}